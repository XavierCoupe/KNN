{
 "cells": [
  {
   "cell_type": "code",
   "id": "e267d778d60a59cd",
   "metadata": {
    "ExecuteTime": {
     "end_time": "2024-10-12T19:08:48.067493Z",
     "start_time": "2024-10-12T19:08:48.064715Z"
    }
   },
   "source": "\n",
   "outputs": [],
   "execution_count": 222
  },
  {
   "cell_type": "code",
   "id": "ce147c0d1e9ee9a6",
   "metadata": {
    "ExecuteTime": {
     "end_time": "2024-10-12T19:08:48.123748Z",
     "start_time": "2024-10-12T19:08:48.118308Z"
    }
   },
   "source": "\n",
   "outputs": [],
   "execution_count": 223
  },
  {
   "cell_type": "code",
   "id": "aa2e302cbe9ebab9",
   "metadata": {
    "ExecuteTime": {
     "end_time": "2024-10-12T19:08:48.171559Z",
     "start_time": "2024-10-12T19:08:48.168574Z"
    }
   },
   "source": "",
   "outputs": [],
   "execution_count": 224
  },
  {
   "cell_type": "code",
   "id": "e6de5695c0dbd95b",
   "metadata": {
    "ExecuteTime": {
     "end_time": "2024-10-12T19:08:48.221411Z",
     "start_time": "2024-10-12T19:08:48.218081Z"
    }
   },
   "source": "",
   "outputs": [],
   "execution_count": 225
  },
  {
   "cell_type": "code",
   "id": "67383b06-bb88-47d8-a18d-247265f3a1a5",
   "metadata": {
    "ExecuteTime": {
     "end_time": "2024-10-12T19:08:48.276829Z",
     "start_time": "2024-10-12T19:08:48.270764Z"
    }
   },
   "source": "\n",
   "outputs": [],
   "execution_count": 226
  },
  {
   "cell_type": "code",
   "id": "f49c9f6ca93a7d14",
   "metadata": {
    "ExecuteTime": {
     "end_time": "2024-10-12T19:08:48.331376Z",
     "start_time": "2024-10-12T19:08:48.326513Z"
    }
   },
   "source": "",
   "outputs": [],
   "execution_count": 227
  },
  {
   "cell_type": "code",
   "id": "9c83b80a9bb03faa",
   "metadata": {
    "ExecuteTime": {
     "end_time": "2024-10-12T19:08:48.433117Z",
     "start_time": "2024-10-12T19:08:48.429167Z"
    }
   },
   "source": "",
   "outputs": [],
   "execution_count": 229
  },
  {
   "cell_type": "code",
   "id": "8fde5bd057c58dfc",
   "metadata": {
    "ExecuteTime": {
     "end_time": "2024-10-12T19:08:48.484483Z",
     "start_time": "2024-10-12T19:08:48.479649Z"
    }
   },
   "source": "",
   "outputs": [],
   "execution_count": 230
  },
  {
   "cell_type": "code",
   "id": "f7265ca1-e3b7-4366-a994-be42cb0ee8f8",
   "metadata": {
    "ExecuteTime": {
     "end_time": "2024-10-12T19:08:48.536864Z",
     "start_time": "2024-10-12T19:08:48.530093Z"
    }
   },
   "source": "",
   "outputs": [],
   "execution_count": 231
  },
  {
   "cell_type": "code",
   "id": "471c881f-1894-4814-8afe-3ea54b75296a",
   "metadata": {
    "ExecuteTime": {
     "end_time": "2024-10-12T19:08:48.591732Z",
     "start_time": "2024-10-12T19:08:48.585932Z"
    }
   },
   "source": "",
   "outputs": [],
   "execution_count": 232
  },
  {
   "cell_type": "code",
   "id": "4436dc5a-c90b-4428-963a-42383637f299",
   "metadata": {
    "ExecuteTime": {
     "end_time": "2024-10-12T19:08:48.641274Z",
     "start_time": "2024-10-12T19:08:48.636533Z"
    }
   },
   "source": "",
   "outputs": [],
   "execution_count": 233
  },
  {
   "cell_type": "code",
   "id": "b74aa88b-2916-4615-8505-a049c22beb17",
   "metadata": {
    "ExecuteTime": {
     "end_time": "2024-10-12T19:08:48.695878Z",
     "start_time": "2024-10-12T19:08:48.691353Z"
    }
   },
   "source": "",
   "outputs": [],
   "execution_count": 234
  },
  {
   "cell_type": "code",
   "id": "1318d3b3-789b-4516-aad0-e3fb7db3482b",
   "metadata": {
    "ExecuteTime": {
     "end_time": "2024-10-12T19:08:48.747858Z",
     "start_time": "2024-10-12T19:08:48.742461Z"
    }
   },
   "source": "",
   "outputs": [],
   "execution_count": 235
  },
  {
   "cell_type": "code",
   "id": "bc2e8df7-6f28-4e21-8e12-401dd1f910b6",
   "metadata": {
    "ExecuteTime": {
     "end_time": "2024-10-12T19:08:48.831511Z",
     "start_time": "2024-10-12T19:08:48.797451Z"
    }
   },
   "source": [
    "\n",
    "\n"
   ],
   "outputs": [
    {
     "name": "stdout",
     "output_type": "stream",
     "text": [
      "Accuracy of KNN with k=3 ,0.9464285714285714\n",
      "Accuracy of ZeroR ,0.39473684210526316\n",
      "Accuracy of OneR,0.9210526315789473\n"
     ]
    }
   ],
   "execution_count": 236
  },
  {
   "cell_type": "code",
   "id": "c86eb6ba-a0d2-4026-ba2c-dee49e7bdd9a",
   "metadata": {
    "ExecuteTime": {
     "end_time": "2024-10-12T19:08:48.853736Z",
     "start_time": "2024-10-12T19:08:48.851245Z"
    }
   },
   "source": [],
   "outputs": [],
   "execution_count": null
  },
  {
   "cell_type": "code",
   "id": "db6f4612-ae78-416e-9a75-d98e14ca8805",
   "metadata": {
    "ExecuteTime": {
     "end_time": "2024-10-12T19:08:48.903142Z",
     "start_time": "2024-10-12T19:08:48.900602Z"
    }
   },
   "source": [],
   "outputs": [],
   "execution_count": null
  }
 ],
 "metadata": {
  "kernelspec": {
   "display_name": "Python 3 (ipykernel)",
   "language": "python",
   "name": "python3"
  },
  "language_info": {
   "codemirror_mode": {
    "name": "ipython",
    "version": 3
   },
   "file_extension": ".py",
   "mimetype": "text/x-python",
   "name": "python",
   "nbconvert_exporter": "python",
   "pygments_lexer": "ipython3",
   "version": "3.12.2"
  }
 },
 "nbformat": 4,
 "nbformat_minor": 5
}
