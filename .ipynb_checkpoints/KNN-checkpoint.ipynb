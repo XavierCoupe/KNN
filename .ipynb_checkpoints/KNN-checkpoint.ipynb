{
 "cells": [
  {
   "cell_type": "code",
   "execution_count": 454,
   "id": "e267d778d60a59cd",
   "metadata": {
    "ExecuteTime": {
     "end_time": "2024-10-11T15:42:01.857471Z",
     "start_time": "2024-10-11T15:42:01.854094Z"
    }
   },
   "outputs": [],
   "source": [
    "import itertools\n",
    "from typing import Callable\n",
    "\n",
    "import numpy as np\n",
    "from numpy.random import shuffle\n",
    "from sklearn.datasets import load_iris\n",
    "from sklearn.model_selection import train_test_split\n"
   ]
  },
  {
   "cell_type": "code",
   "execution_count": 455,
   "id": "ce147c0d1e9ee9a6",
   "metadata": {
    "ExecuteTime": {
     "end_time": "2024-10-11T15:56:27.560234Z",
     "start_time": "2024-10-11T15:56:27.554065Z"
    }
   },
   "outputs": [],
   "source": [
    "iris = load_iris()\n",
    "\n",
    "data = np.array(iris['data'])\n",
    "target = np.array(iris['target'])\n",
    "\n",
    "data = data[:,:]\n",
    "X_train, X_dev, y_train, y_dev =  train_test_split(data,target, test_size=0.4, train_size=0.6, random_state=42)"
   ]
  },
  {
   "cell_type": "code",
   "execution_count": 456,
   "id": "aa2e302cbe9ebab9",
   "metadata": {
    "ExecuteTime": {
     "end_time": "2024-10-11T15:42:02.408851Z",
     "start_time": "2024-10-11T15:42:02.404691Z"
    }
   },
   "outputs": [],
   "source": [
    "def toIrisName(nb: int)-> str:\n",
    "    return iris[\"target_names\"][nb]"
   ]
  },
  {
   "cell_type": "code",
   "execution_count": 457,
   "id": "e6de5695c0dbd95b",
   "metadata": {
    "ExecuteTime": {
     "end_time": "2024-10-11T15:42:02.689083Z",
     "start_time": "2024-10-11T15:42:02.684634Z"
    }
   },
   "outputs": [],
   "source": [
    "def distance(x1: np.ndarray, x2: np.ndarray):\n",
    "    return np.linalg.norm(x1 - x2)"
   ]
  },
  {
   "cell_type": "code",
   "execution_count": 458,
   "id": "67383b06-bb88-47d8-a18d-247265f3a1a5",
   "metadata": {
    "ExecuteTime": {
     "end_time": "2024-10-11T15:42:03.020747Z",
     "start_time": "2024-10-11T15:42:03.016453Z"
    }
   },
   "outputs": [],
   "source": [
    "def KNN_Algo(datas: np.array,target: np.array,k, distance: Callable,new_data :np.ndarray ):\n",
    "    \n",
    "    dicDist = {}\n",
    "    for ii,data in enumerate(datas):\n",
    "        dicDist[ii] = distance(data, new_data)\n",
    "    #sorted by value\n",
    "    listDist = dict(sorted(dicDist.items(), key=lambda item: item[1]))\n",
    "    #get k first\n",
    "    splitKNear = dict(itertools.islice(listDist.items(), k))\n",
    "        \n",
    "    #get the major cluster\n",
    "    _, counts = np.unique(target, return_counts=True)\n",
    "    listTarget = [0]*len(counts)\n",
    "    for key in splitKNear: \n",
    "        listTarget[target[key]] +=1\n",
    "    return np.argmax(listTarget)\n"
   ]
  },
  {
   "cell_type": "code",
   "execution_count": 459,
   "id": "f49c9f6ca93a7d14",
   "metadata": {
    "ExecuteTime": {
     "end_time": "2024-10-11T15:56:22.836406Z",
     "start_time": "2024-10-11T15:56:22.830722Z"
    }
   },
   "outputs": [],
   "source": [
    "def accuracyKNN(data: np.array, target: np.array, k: int) -> float:\n",
    "    nbGoodAnswer = 0\n",
    "    nbAnswer = data.shape[0]\n",
    "    \n",
    "    for ii in range(nbAnswer):\n",
    "        res = KNN_Algo(X_train,y_train, k, distance, data[ii])\n",
    "        if res == target[ii]:\n",
    "            nbGoodAnswer+=1\n",
    "    return nbGoodAnswer/nbAnswer"
   ]
  },
  {
   "cell_type": "code",
   "execution_count": 460,
   "id": "5bb510672f56a6f5",
   "metadata": {
    "ExecuteTime": {
     "end_time": "2024-10-11T16:03:07.266320Z",
     "start_time": "2024-10-11T16:03:07.262706Z"
    }
   },
   "outputs": [],
   "source": [
    "def zeroR(target: np.array, new_data: np.array) -> str:\n",
    "    maxi = [0]*(np.max(target)+1)\n",
    "    for ii,val in enumerate(target):\n",
    "        maxi[val] += 1\n",
    "    return np.argmax(maxi)\n"
   ]
  },
  {
   "cell_type": "code",
   "execution_count": 461,
   "id": "9c83b80a9bb03faa",
   "metadata": {
    "ExecuteTime": {
     "end_time": "2024-10-11T16:03:07.590254Z",
     "start_time": "2024-10-11T16:03:07.585121Z"
    }
   },
   "outputs": [],
   "source": [
    "def AccuracyZeroR(data: np.array, target: np.array)-> float:\n",
    "    accuracy = 0\n",
    "    for indiceName in target :\n",
    "        if zeroR(target,np.array([0])) == indiceName:\n",
    "            accuracy += 1\n",
    "    return accuracy/len(target)"
   ]
  },
  {
   "cell_type": "code",
   "execution_count": 462,
   "id": "8fde5bd057c58dfc",
   "metadata": {},
   "outputs": [],
   "source": [
    "def nbUniqueTarget(target: np.array) -> int:\n",
    "    _, counts = np.unique(target, return_counts=True)\n",
    "    return len(counts)"
   ]
  },
  {
   "cell_type": "code",
   "execution_count": 463,
   "id": "f7265ca1-e3b7-4366-a994-be42cb0ee8f8",
   "metadata": {},
   "outputs": [],
   "source": [
    "def discretizeValue(data: np.array, target: np.array) -> np.array:\n",
    "    allDiscretInterval = []\n",
    "    for ii in range(data.shape[1]):\n",
    "        #Interval discretize\n",
    "        discretisation = np.array([])\n",
    "\n",
    "        \n",
    "        feature_i = data[:,ii]\n",
    "\n",
    "        #get the number of unique value\n",
    "        uniqueTarget = nbUniqueTarget(target)\n",
    "\n",
    "        \n",
    "        pas = feature_i.mean()/uniqueTarget\n",
    "        maxi = np.max(feature_i)\n",
    "        mini = np.min(feature_i)\n",
    "        discretisation = []\n",
    "        while (mini+pas <= maxi):\n",
    "            \n",
    "            discretisation.append([mini,mini+pas])\n",
    "            mini += pas #new min not the same as the ancient max \n",
    "        discretisation.append(np.array([mini,maxi]))\n",
    "        allDiscretInterval.append(discretisation)\n",
    "    \n",
    "    return allDiscretInterval"
   ]
  },
  {
   "cell_type": "code",
   "execution_count": 464,
   "id": "471c881f-1894-4814-8afe-3ea54b75296a",
   "metadata": {},
   "outputs": [],
   "source": [
    "def ProbaOneR(count: np.array, nbTarget: int) -> float:\n",
    "    return np.divide(count,count.sum(axis=1)[:,np.newaxis])"
   ]
  },
  {
   "cell_type": "code",
   "execution_count": 474,
   "id": "4436dc5a-c90b-4428-963a-42383637f299",
   "metadata": {},
   "outputs": [
    {
     "name": "stdout",
     "output_type": "stream",
     "text": [
      "[[1.         0.         0.        ]\n",
      " [0.         1.         0.        ]\n",
      " [0.         0.83333333 0.16666667]\n",
      " [0.         0.07407407 0.92592593]\n",
      " [0.         0.         1.        ]]\n",
      "[0 1 1 2 2]\n"
     ]
    },
    {
     "data": {
      "text/plain": [
       "(2,\n",
       " [[1.1, 2.3814814814814813],\n",
       "  [2.3814814814814813, 3.662962962962963],\n",
       "  [3.662962962962963, 4.944444444444445],\n",
       "  [4.944444444444445, 6.225925925925926],\n",
       "  array([6.22592593, 6.7       ])],\n",
       " array([0, 1, 1, 2, 2]))"
      ]
     },
     "execution_count": 474,
     "metadata": {},
     "output_type": "execute_result"
    }
   ],
   "source": [
    "from copy import deepcopy\n",
    "\n",
    "def predictFeatureOneR(data: np.array, target: np.array):\n",
    "    discretInterval = discretizeValue(data, target)\n",
    "    \n",
    "    countLabel = deepcopy(list(discretInterval))\n",
    "\n",
    "    \n",
    "    #Replace all value by zero\n",
    "    UniqueTarget = nbUniqueTarget(target)\n",
    "    for ii,c in enumerate(countLabel):#for each label interval list\n",
    "        for i in range(len(c)):#for each interval\n",
    "            c[i] = [0]*UniqueTarget\n",
    "        countLabel[ii] = c\n",
    "    for ii,features in enumerate(data):\n",
    "         for jj,valueFeature in enumerate(features):\n",
    "             for indiceInterval,interval in enumerate(discretInterval[jj]):\n",
    "                 bornInf = interval[0]\n",
    "                 bornSup = interval[1]\n",
    "                 \n",
    "                 if bornInf < valueFeature < bornSup:\n",
    "                     x = 5\n",
    "                     countLabel[jj][indiceInterval][target[ii]] += 1\n",
    "\n",
    "    #calculation of probality of each feature\n",
    "    selectFeature = -1\n",
    "    maxiProb = -np.inf\n",
    "    for iiSelectFeature,f in enumerate(countLabel):\n",
    "        nbValue = ProbaOneR(np.array(f), UniqueTarget)\n",
    "        \n",
    "        prob = np.divide(nbValue.max(axis=1).sum(),len(nbValue))\n",
    "        \n",
    "        \n",
    "        if prob > maxiProb:\n",
    "            maxiProb = prob\n",
    "            selectFeature = iiSelectFeature\n",
    "    #set the feature to predict \n",
    "    nbValue = ProbaOneR(np.array(countLabel[selectFeature]), UniqueTarget)\n",
    "\n",
    "    \n",
    "    featurePredictList = np.argmax(nbValue, axis=1)\n",
    "    print(nbValue)\n",
    "    print(featurePredictList)\n",
    "    return selectFeature, discretInterval[selectFeature], featurePredictList\n",
    "predictFeatureOneR(X_train,y_train)"
   ]
  },
  {
   "cell_type": "code",
   "execution_count": 475,
   "id": "b74aa88b-2916-4615-8505-a049c22beb17",
   "metadata": {},
   "outputs": [],
   "source": [
    "def oneR(selectFeature: np.array, discretInterval: np.array, featurePredictList: np.array, new_data: np.array):\n",
    "    for ii,interval in enumerate(discretInterval):\n",
    "        if interval[0] < new_data[selectFeature] and new_data[selectFeature] < interval[1]:\n",
    "            return featurePredictList[ii]"
   ]
  },
  {
   "cell_type": "code",
   "execution_count": 480,
   "id": "1318d3b3-789b-4516-aad0-e3fb7db3482b",
   "metadata": {},
   "outputs": [],
   "source": [
    "def AccuracyOneR(dataTrain: np.array, targetTrain: np.array, dataDev: np.array, targetDev: np.array)-> float:\n",
    "    selectFeature, discretInterval, featurePredictList = predictFeature(dataTrain, targetTrain)\n",
    "    accuracy = 0\n",
    "    for ii,indiceName in enumerate(targetDev) :\n",
    "        prediction = oneR(selectFeature,discretInterval,featurePredictList, dataDev[ii])\n",
    "        if prediction == indiceName:\n",
    "            accuracy += 1\n",
    "    return accuracy/len(targetDev)"
   ]
  },
  {
   "cell_type": "code",
   "execution_count": 481,
   "id": "bc2e8df7-6f28-4e21-8e12-401dd1f910b6",
   "metadata": {},
   "outputs": [
    {
     "name": "stdout",
     "output_type": "stream",
     "text": [
      "Accuracy of KNN with k=3 ,0.9555555555555556\n",
      "Accuracy of ZeroR ,0.38333333333333336\n",
      "Accuracy of OneR,0.5166666666666667\n"
     ]
    }
   ],
   "source": [
    "print(f\"Accuracy of KNN with k=3 ,{accuracyKNN(X_train,y_train,3)}\")\n",
    "print(f\"Accuracy of ZeroR ,{AccuracyZeroR(X_train, y_dev)}\")\n",
    "print(f\"Accuracy of OneR,{AccuracyOneR(X_train,y_train,X_dev,y_dev)}\")\n",
    "\n"
   ]
  },
  {
   "cell_type": "code",
   "execution_count": null,
   "id": "c86eb6ba-a0d2-4026-ba2c-dee49e7bdd9a",
   "metadata": {},
   "outputs": [],
   "source": []
  },
  {
   "cell_type": "code",
   "execution_count": null,
   "id": "db6f4612-ae78-416e-9a75-d98e14ca8805",
   "metadata": {},
   "outputs": [],
   "source": []
  }
 ],
 "metadata": {
  "kernelspec": {
   "display_name": "Python 3 (ipykernel)",
   "language": "python",
   "name": "python3"
  },
  "language_info": {
   "codemirror_mode": {
    "name": "ipython",
    "version": 3
   },
   "file_extension": ".py",
   "mimetype": "text/x-python",
   "name": "python",
   "nbconvert_exporter": "python",
   "pygments_lexer": "ipython3",
   "version": "3.12.2"
  }
 },
 "nbformat": 4,
 "nbformat_minor": 5
}
